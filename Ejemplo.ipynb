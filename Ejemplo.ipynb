{
 "cells": [
  {
   "cell_type": "code",
   "execution_count": 1,
   "metadata": {},
   "outputs": [],
   "source": [
    "import pandas as pd\n",
    "from toolbox_ML import *"
   ]
  },
  {
   "cell_type": "markdown",
   "metadata": {},
   "source": [
    "### 1. Cargamos los **datos** del ejemplo de los precios de las casas en California"
   ]
  },
  {
   "cell_type": "code",
   "execution_count": 4,
   "metadata": {},
   "outputs": [],
   "source": [
    "df_casas = pd.read_csv('./data/ejemplo_housing.csv')"
   ]
  },
  {
   "cell_type": "markdown",
   "metadata": {},
   "source": [
    "Echamos un vistazo de los datos en el DF"
   ]
  },
  {
   "cell_type": "code",
   "execution_count": 3,
   "metadata": {},
   "outputs": [
    {
     "data": {
      "text/html": [
       "<div>\n",
       "<style scoped>\n",
       "    .dataframe tbody tr th:only-of-type {\n",
       "        vertical-align: middle;\n",
       "    }\n",
       "\n",
       "    .dataframe tbody tr th {\n",
       "        vertical-align: top;\n",
       "    }\n",
       "\n",
       "    .dataframe thead th {\n",
       "        text-align: right;\n",
       "    }\n",
       "</style>\n",
       "<table border=\"1\" class=\"dataframe\">\n",
       "  <thead>\n",
       "    <tr style=\"text-align: right;\">\n",
       "      <th></th>\n",
       "      <th>longitude</th>\n",
       "      <th>latitude</th>\n",
       "      <th>housing_median_age</th>\n",
       "      <th>total_rooms</th>\n",
       "      <th>total_bedrooms</th>\n",
       "      <th>population</th>\n",
       "      <th>households</th>\n",
       "      <th>median_income</th>\n",
       "      <th>median_house_value</th>\n",
       "      <th>ocean_proximity</th>\n",
       "    </tr>\n",
       "  </thead>\n",
       "  <tbody>\n",
       "    <tr>\n",
       "      <th>0</th>\n",
       "      <td>-122.23</td>\n",
       "      <td>37.88</td>\n",
       "      <td>41.0</td>\n",
       "      <td>880.0</td>\n",
       "      <td>129.0</td>\n",
       "      <td>322.0</td>\n",
       "      <td>126.0</td>\n",
       "      <td>8.3252</td>\n",
       "      <td>452600.0</td>\n",
       "      <td>NEAR BAY</td>\n",
       "    </tr>\n",
       "    <tr>\n",
       "      <th>1</th>\n",
       "      <td>-122.22</td>\n",
       "      <td>37.86</td>\n",
       "      <td>21.0</td>\n",
       "      <td>7099.0</td>\n",
       "      <td>1106.0</td>\n",
       "      <td>2401.0</td>\n",
       "      <td>1138.0</td>\n",
       "      <td>8.3014</td>\n",
       "      <td>358500.0</td>\n",
       "      <td>NEAR BAY</td>\n",
       "    </tr>\n",
       "    <tr>\n",
       "      <th>2</th>\n",
       "      <td>-122.24</td>\n",
       "      <td>37.85</td>\n",
       "      <td>52.0</td>\n",
       "      <td>1467.0</td>\n",
       "      <td>190.0</td>\n",
       "      <td>496.0</td>\n",
       "      <td>177.0</td>\n",
       "      <td>7.2574</td>\n",
       "      <td>352100.0</td>\n",
       "      <td>NEAR BAY</td>\n",
       "    </tr>\n",
       "    <tr>\n",
       "      <th>3</th>\n",
       "      <td>-122.25</td>\n",
       "      <td>37.85</td>\n",
       "      <td>52.0</td>\n",
       "      <td>1274.0</td>\n",
       "      <td>235.0</td>\n",
       "      <td>558.0</td>\n",
       "      <td>219.0</td>\n",
       "      <td>5.6431</td>\n",
       "      <td>341300.0</td>\n",
       "      <td>NEAR BAY</td>\n",
       "    </tr>\n",
       "    <tr>\n",
       "      <th>4</th>\n",
       "      <td>-122.25</td>\n",
       "      <td>37.85</td>\n",
       "      <td>52.0</td>\n",
       "      <td>1627.0</td>\n",
       "      <td>280.0</td>\n",
       "      <td>565.0</td>\n",
       "      <td>259.0</td>\n",
       "      <td>3.8462</td>\n",
       "      <td>342200.0</td>\n",
       "      <td>NEAR BAY</td>\n",
       "    </tr>\n",
       "  </tbody>\n",
       "</table>\n",
       "</div>"
      ],
      "text/plain": [
       "   longitude  latitude  housing_median_age  total_rooms  total_bedrooms  \\\n",
       "0    -122.23     37.88                41.0        880.0           129.0   \n",
       "1    -122.22     37.86                21.0       7099.0          1106.0   \n",
       "2    -122.24     37.85                52.0       1467.0           190.0   \n",
       "3    -122.25     37.85                52.0       1274.0           235.0   \n",
       "4    -122.25     37.85                52.0       1627.0           280.0   \n",
       "\n",
       "   population  households  median_income  median_house_value ocean_proximity  \n",
       "0       322.0       126.0         8.3252            452600.0        NEAR BAY  \n",
       "1      2401.0      1138.0         8.3014            358500.0        NEAR BAY  \n",
       "2       496.0       177.0         7.2574            352100.0        NEAR BAY  \n",
       "3       558.0       219.0         5.6431            341300.0        NEAR BAY  \n",
       "4       565.0       259.0         3.8462            342200.0        NEAR BAY  "
      ]
     },
     "execution_count": 3,
     "metadata": {},
     "output_type": "execute_result"
    }
   ],
   "source": [
    "df_casas.head()"
   ]
  },
  {
   "cell_type": "code",
   "execution_count": 4,
   "metadata": {},
   "outputs": [
    {
     "name": "stdout",
     "output_type": "stream",
     "text": [
      "<class 'pandas.core.frame.DataFrame'>\n",
      "RangeIndex: 20433 entries, 0 to 20432\n",
      "Data columns (total 10 columns):\n",
      " #   Column              Non-Null Count  Dtype  \n",
      "---  ------              --------------  -----  \n",
      " 0   longitude           20433 non-null  float64\n",
      " 1   latitude            20433 non-null  float64\n",
      " 2   housing_median_age  20433 non-null  float64\n",
      " 3   total_rooms         20433 non-null  float64\n",
      " 4   total_bedrooms      20433 non-null  float64\n",
      " 5   population          20433 non-null  float64\n",
      " 6   households          20433 non-null  float64\n",
      " 7   median_income       20433 non-null  float64\n",
      " 8   median_house_value  20433 non-null  float64\n",
      " 9   ocean_proximity     20433 non-null  object \n",
      "dtypes: float64(9), object(1)\n",
      "memory usage: 1.6+ MB\n"
     ]
    }
   ],
   "source": [
    "df_casas.info()"
   ]
  },
  {
   "cell_type": "markdown",
   "metadata": {},
   "source": [
    "### 2. Implementación de las funciones creadas en **Toolbox_ML**"
   ]
  },
  {
   "cell_type": "markdown",
   "metadata": {},
   "source": [
    "#### Función `describe_df`\n",
    "\n",
    " Esta función muestra información específica del DF original. \n",
    " \n",
    " Esa información será: el tipo de objeto, el % de valores nulos o missings, los valores únicos y el % de cardinalidad de cada columna del DF original para tener \n",
    "\n",
    " *Argumentos*:\n",
    "\n",
    " `df`: DF original sobre el que queremos recibir la información.\n",
    "\n",
    " *Retorna*:\n",
    "\n",
    "DF con la información específica."
   ]
  },
  {
   "cell_type": "code",
   "execution_count": null,
   "metadata": {},
   "outputs": [],
   "source": [
    "describe_df(df_casas)"
   ]
  },
  {
   "cell_type": "markdown",
   "metadata": {},
   "source": [
    "#### Función `tipifica_variables`\n",
    "\n",
    "Esta función sirve para poder tipificar las variables de un DF dado en categórica, numerica continua o numerica discreta.\n",
    "\n",
    "*Argumentos:*\n",
    "\n",
    "`df`: DF original para adquirir las variables que se quiera tificar.\n",
    "`umbral_categoria`: un entero donde corresponda al umbral que queramos asignar a una variable categórica.\n",
    "`umbral_continua`: un float donde corresponda al umbral que queramos asignar a una variable numérica.\n",
    "\n",
    "*Retorna:*\n",
    "\n",
    "Un DF con dos columnas `nombre_varibale` y `tipo_sugerido`, que tendrá tantas filas como columnas haya en el DF original."
   ]
  },
  {
   "cell_type": "code",
   "execution_count": null,
   "metadata": {},
   "outputs": [],
   "source": [
    "# Cheque del control de errores\n",
    "\n",
    "tipifica_variables(df_casas, 8.9, 10.0)"
   ]
  },
  {
   "cell_type": "code",
   "execution_count": null,
   "metadata": {},
   "outputs": [],
   "source": [
    "tipifica_variables(df_casas, 6, 4)"
   ]
  },
  {
   "cell_type": "code",
   "execution_count": null,
   "metadata": {},
   "outputs": [],
   "source": [
    "tipifica_variables(df_casas, 7, 4.0)"
   ]
  },
  {
   "cell_type": "markdown",
   "metadata": {},
   "source": [
    "#### Función `get_features_num_regression`\n",
    "\n",
    "Obtiene las columnas numéricas cuya correlación con target_col es significativa.\n",
    "\n",
    "*Argumentos*:\n",
    "\n",
    "`df`: DataFrame que contiene los datos.\n",
    "\n",
    "`target_col`: Nombre de la columna objetivo (debe ser numérica).\n",
    "\n",
    "`umbral_corr`: Umbral de correlación para filtrar las columnas.\n",
    "\n",
    "`pvalue`: Umbral de significancia para el valor p. Si es None, solo se considera el umbral de correlación.\n",
    "\n",
    "\n",
    "*Retorna*:\n",
    "\n",
    "Lista de nombres de columnas que cumplen con los criterios."
   ]
  },
  {
   "cell_type": "code",
   "execution_count": null,
   "metadata": {},
   "outputs": [],
   "source": [
    "#Chequeo de errores\n",
    "get_features_num_regression(df_casas, 'median_house_value', 2)"
   ]
  },
  {
   "cell_type": "code",
   "execution_count": null,
   "metadata": {},
   "outputs": [],
   "source": [
    "get_features_num_regression(df_casas, 'median_house_value', 2.3)"
   ]
  },
  {
   "cell_type": "code",
   "execution_count": null,
   "metadata": {},
   "outputs": [],
   "source": [
    "get_features_num_regression(df_casas, 'ocean_proximity', 0.5)"
   ]
  },
  {
   "cell_type": "code",
   "execution_count": 12,
   "metadata": {},
   "outputs": [
    {
     "name": "stdout",
     "output_type": "stream",
     "text": [
      "Las correlaciones con las demás variables numéricas y \"median_house_value\" son:\n",
      "\n",
      "median_house_value    1.000000\n",
      "median_income         0.688355\n",
      "latitude              0.144638\n",
      "total_rooms           0.133294\n",
      "housing_median_age    0.106432\n",
      "households            0.064894\n",
      "total_bedrooms        0.049686\n",
      "longitude             0.045398\n",
      "population            0.025300\n",
      "Name: median_house_value, dtype: float64\n",
      "\n",
      "Lista de variables numéricas que tiene correlación según el umbral dado en la función:\n"
     ]
    },
    {
     "data": {
      "text/plain": [
       "['median_income',\n",
       " 'latitude',\n",
       " 'total_rooms',\n",
       " 'housing_median_age',\n",
       " 'households']"
      ]
     },
     "execution_count": 12,
     "metadata": {},
     "output_type": "execute_result"
    }
   ],
   "source": [
    "# Si pvalue == None\n",
    "get_features_num_regression(df_casas, 'median_house_value', 0.05)"
   ]
  },
  {
   "cell_type": "code",
   "execution_count": 13,
   "metadata": {},
   "outputs": [
    {
     "name": "stdout",
     "output_type": "stream",
     "text": [
      "Las correlaciones con las demás variables numéricas y \"median_house_value\" son:\n",
      "\n",
      "median_house_value    1.000000\n",
      "median_income         0.688355\n",
      "latitude              0.144638\n",
      "total_rooms           0.133294\n",
      "housing_median_age    0.106432\n",
      "households            0.064894\n",
      "total_bedrooms        0.049686\n",
      "longitude             0.045398\n",
      "population            0.025300\n",
      "Name: median_house_value, dtype: float64\n",
      "\n",
      "Lista de variables numéricas que tiene correlación según el umbral dado en la función:\n",
      "['median_income', 'latitude', 'total_rooms', 'housing_median_age', 'households']\n",
      "\n",
      "Las features numéricas con una significancia del 95.0 % son:\n"
     ]
    },
    {
     "data": {
      "text/plain": [
       "['median_income',\n",
       " 'latitude',\n",
       " 'total_rooms',\n",
       " 'housing_median_age',\n",
       " 'households']"
      ]
     },
     "execution_count": 13,
     "metadata": {},
     "output_type": "execute_result"
    }
   ],
   "source": [
    "# Si el pvalue != None\n",
    "get_features_num_regression(df_casas, 'median_house_value', 0.05, 0.95)"
   ]
  },
  {
   "cell_type": "markdown",
   "metadata": {},
   "source": [
    "#### Función `get_features_cat_regression`\n",
    "\n",
    "Esta funcion devueleve una lista con las variables categoricas del dataframe que guardan una relacion siginificativa con la variable target, superando el test ANOVA con una confianza estadistica del 95%. Evalua los argumentos de entrada y retornara None en caso de que alguno de los valores de entrada no sean adecuados. \n",
    "\n",
    "*Argumentos:*\n",
    "\n",
    "`df` : (`pd.Dataframe`) Dataframe con las variables que se quieren testar.\n",
    "`target_col` : (`df[\"columna_target\"]`) Columna del dataframe que se toma como objetivo (y).\n",
    "`p_value` : (`float`) Por defecto `0.05`. Umbral de confianza estadistica. \n",
    "\n",
    "*Retorna:*\n",
    "\n",
    "Una `lista` con las variables categoricas del dataframe. "
   ]
  },
  {
   "cell_type": "code",
   "execution_count": null,
   "metadata": {},
   "outputs": [],
   "source": [
    "get_features_cat_regression(df_casas, \"median_house_value\")"
   ]
  },
  {
   "cell_type": "code",
   "execution_count": null,
   "metadata": {},
   "outputs": [],
   "source": [
    "get_features_cat_regression(df_casas, \"median_house_value\", 0.01) # Probamos a subir el pvalor"
   ]
  },
  {
   "cell_type": "code",
   "execution_count": null,
   "metadata": {},
   "outputs": [],
   "source": [
    "get_features_cat_regression(df_casas, \"median_income\") # Probamos con otra columna target "
   ]
  },
  {
   "cell_type": "code",
   "execution_count": 2,
   "metadata": {},
   "outputs": [],
   "source": [
    "df_titanic = pd.read_csv('./data/titanic.csv')"
   ]
  },
  {
   "cell_type": "code",
   "execution_count": null,
   "metadata": {},
   "outputs": [],
   "source": [
    "get_features_cat_regression(df_titanic, 'fare')"
   ]
  },
  {
   "cell_type": "code",
   "execution_count": null,
   "metadata": {},
   "outputs": [],
   "source": []
  }
 ],
 "metadata": {
  "kernelspec": {
   "display_name": "Python 3",
   "language": "python",
   "name": "python3"
  },
  "language_info": {
   "codemirror_mode": {
    "name": "ipython",
    "version": 3
   },
   "file_extension": ".py",
   "mimetype": "text/x-python",
   "name": "python",
   "nbconvert_exporter": "python",
   "pygments_lexer": "ipython3",
   "version": "3.12.3"
  }
 },
 "nbformat": 4,
 "nbformat_minor": 2
}
