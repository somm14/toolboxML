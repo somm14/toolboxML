{
 "cells": [
  {
   "cell_type": "code",
   "execution_count": 13,
   "metadata": {},
   "outputs": [],
   "source": [
    "import pandas as pd\n",
    "from toolbox_ML import *"
   ]
  },
  {
   "cell_type": "markdown",
   "metadata": {},
   "source": [
    "### 1. Cargamos los **datos** del ejemplo de los precios de las casas en California"
   ]
  },
  {
   "cell_type": "code",
   "execution_count": 14,
   "metadata": {},
   "outputs": [],
   "source": [
    "df_casas = pd.read_csv('./data/ejemplo_housing.csv')"
   ]
  },
  {
   "cell_type": "markdown",
   "metadata": {},
   "source": [
    "Echamos un vistazo de los datos en el DF"
   ]
  },
  {
   "cell_type": "code",
   "execution_count": 15,
   "metadata": {},
   "outputs": [
    {
     "data": {
      "text/html": [
       "<div>\n",
       "<style scoped>\n",
       "    .dataframe tbody tr th:only-of-type {\n",
       "        vertical-align: middle;\n",
       "    }\n",
       "\n",
       "    .dataframe tbody tr th {\n",
       "        vertical-align: top;\n",
       "    }\n",
       "\n",
       "    .dataframe thead th {\n",
       "        text-align: right;\n",
       "    }\n",
       "</style>\n",
       "<table border=\"1\" class=\"dataframe\">\n",
       "  <thead>\n",
       "    <tr style=\"text-align: right;\">\n",
       "      <th></th>\n",
       "      <th>longitude</th>\n",
       "      <th>latitude</th>\n",
       "      <th>housing_median_age</th>\n",
       "      <th>total_rooms</th>\n",
       "      <th>total_bedrooms</th>\n",
       "      <th>population</th>\n",
       "      <th>households</th>\n",
       "      <th>median_income</th>\n",
       "      <th>median_house_value</th>\n",
       "      <th>ocean_proximity</th>\n",
       "    </tr>\n",
       "  </thead>\n",
       "  <tbody>\n",
       "    <tr>\n",
       "      <th>0</th>\n",
       "      <td>-122.23</td>\n",
       "      <td>37.88</td>\n",
       "      <td>41.0</td>\n",
       "      <td>880.0</td>\n",
       "      <td>129.0</td>\n",
       "      <td>322.0</td>\n",
       "      <td>126.0</td>\n",
       "      <td>8.3252</td>\n",
       "      <td>452600.0</td>\n",
       "      <td>NEAR BAY</td>\n",
       "    </tr>\n",
       "    <tr>\n",
       "      <th>1</th>\n",
       "      <td>-122.22</td>\n",
       "      <td>37.86</td>\n",
       "      <td>21.0</td>\n",
       "      <td>7099.0</td>\n",
       "      <td>1106.0</td>\n",
       "      <td>2401.0</td>\n",
       "      <td>1138.0</td>\n",
       "      <td>8.3014</td>\n",
       "      <td>358500.0</td>\n",
       "      <td>NEAR BAY</td>\n",
       "    </tr>\n",
       "    <tr>\n",
       "      <th>2</th>\n",
       "      <td>-122.24</td>\n",
       "      <td>37.85</td>\n",
       "      <td>52.0</td>\n",
       "      <td>1467.0</td>\n",
       "      <td>190.0</td>\n",
       "      <td>496.0</td>\n",
       "      <td>177.0</td>\n",
       "      <td>7.2574</td>\n",
       "      <td>352100.0</td>\n",
       "      <td>NEAR BAY</td>\n",
       "    </tr>\n",
       "    <tr>\n",
       "      <th>3</th>\n",
       "      <td>-122.25</td>\n",
       "      <td>37.85</td>\n",
       "      <td>52.0</td>\n",
       "      <td>1274.0</td>\n",
       "      <td>235.0</td>\n",
       "      <td>558.0</td>\n",
       "      <td>219.0</td>\n",
       "      <td>5.6431</td>\n",
       "      <td>341300.0</td>\n",
       "      <td>NEAR BAY</td>\n",
       "    </tr>\n",
       "    <tr>\n",
       "      <th>4</th>\n",
       "      <td>-122.25</td>\n",
       "      <td>37.85</td>\n",
       "      <td>52.0</td>\n",
       "      <td>1627.0</td>\n",
       "      <td>280.0</td>\n",
       "      <td>565.0</td>\n",
       "      <td>259.0</td>\n",
       "      <td>3.8462</td>\n",
       "      <td>342200.0</td>\n",
       "      <td>NEAR BAY</td>\n",
       "    </tr>\n",
       "  </tbody>\n",
       "</table>\n",
       "</div>"
      ],
      "text/plain": [
       "   longitude  latitude  housing_median_age  total_rooms  total_bedrooms  \\\n",
       "0    -122.23     37.88                41.0        880.0           129.0   \n",
       "1    -122.22     37.86                21.0       7099.0          1106.0   \n",
       "2    -122.24     37.85                52.0       1467.0           190.0   \n",
       "3    -122.25     37.85                52.0       1274.0           235.0   \n",
       "4    -122.25     37.85                52.0       1627.0           280.0   \n",
       "\n",
       "   population  households  median_income  median_house_value ocean_proximity  \n",
       "0       322.0       126.0         8.3252            452600.0        NEAR BAY  \n",
       "1      2401.0      1138.0         8.3014            358500.0        NEAR BAY  \n",
       "2       496.0       177.0         7.2574            352100.0        NEAR BAY  \n",
       "3       558.0       219.0         5.6431            341300.0        NEAR BAY  \n",
       "4       565.0       259.0         3.8462            342200.0        NEAR BAY  "
      ]
     },
     "execution_count": 15,
     "metadata": {},
     "output_type": "execute_result"
    }
   ],
   "source": [
    "df_casas.head()"
   ]
  },
  {
   "cell_type": "code",
   "execution_count": 16,
   "metadata": {},
   "outputs": [
    {
     "name": "stdout",
     "output_type": "stream",
     "text": [
      "<class 'pandas.core.frame.DataFrame'>\n",
      "RangeIndex: 20433 entries, 0 to 20432\n",
      "Data columns (total 10 columns):\n",
      " #   Column              Non-Null Count  Dtype  \n",
      "---  ------              --------------  -----  \n",
      " 0   longitude           20433 non-null  float64\n",
      " 1   latitude            20433 non-null  float64\n",
      " 2   housing_median_age  20433 non-null  float64\n",
      " 3   total_rooms         20433 non-null  float64\n",
      " 4   total_bedrooms      20433 non-null  float64\n",
      " 5   population          20433 non-null  float64\n",
      " 6   households          20433 non-null  float64\n",
      " 7   median_income       20433 non-null  float64\n",
      " 8   median_house_value  20433 non-null  float64\n",
      " 9   ocean_proximity     20433 non-null  object \n",
      "dtypes: float64(9), object(1)\n",
      "memory usage: 1.6+ MB\n"
     ]
    }
   ],
   "source": [
    "df_casas.info()"
   ]
  },
  {
   "cell_type": "markdown",
   "metadata": {},
   "source": [
    "### 2. Implementación de las funciones creadas en **Toolbox_ML**"
   ]
  },
  {
   "cell_type": "markdown",
   "metadata": {},
   "source": [
    "#### Función `describe_df`\n",
    "\n",
    " Esta función muestra información específica del DF original. \n",
    " \n",
    " Esa información será: el tipo de objeto, el % de valores nulos o missings, los valores únicos y el % de cardinalidad de cada columna del DF original para tener \n",
    "\n",
    " *Argumentos*:\n",
    "\n",
    " `df`: DF original sobre el que queremos recibir la información.\n",
    "\n",
    " *Retorna*:\n",
    "\n",
    "DF con la información específica."
   ]
  },
  {
   "cell_type": "code",
   "execution_count": 17,
   "metadata": {},
   "outputs": [
    {
     "data": {
      "text/html": [
       "<div>\n",
       "<style scoped>\n",
       "    .dataframe tbody tr th:only-of-type {\n",
       "        vertical-align: middle;\n",
       "    }\n",
       "\n",
       "    .dataframe tbody tr th {\n",
       "        vertical-align: top;\n",
       "    }\n",
       "\n",
       "    .dataframe thead th {\n",
       "        text-align: right;\n",
       "    }\n",
       "</style>\n",
       "<table border=\"1\" class=\"dataframe\">\n",
       "  <thead>\n",
       "    <tr style=\"text-align: right;\">\n",
       "      <th></th>\n",
       "      <th>COL_N</th>\n",
       "      <th>longitude</th>\n",
       "      <th>latitude</th>\n",
       "      <th>housing_median_age</th>\n",
       "      <th>total_rooms</th>\n",
       "      <th>total_bedrooms</th>\n",
       "      <th>population</th>\n",
       "      <th>households</th>\n",
       "      <th>median_income</th>\n",
       "      <th>median_house_value</th>\n",
       "      <th>ocean_proximity</th>\n",
       "    </tr>\n",
       "  </thead>\n",
       "  <tbody>\n",
       "    <tr>\n",
       "      <th>0</th>\n",
       "      <td>DATA_TYPE</td>\n",
       "      <td>float64</td>\n",
       "      <td>float64</td>\n",
       "      <td>float64</td>\n",
       "      <td>float64</td>\n",
       "      <td>float64</td>\n",
       "      <td>float64</td>\n",
       "      <td>float64</td>\n",
       "      <td>float64</td>\n",
       "      <td>float64</td>\n",
       "      <td>object</td>\n",
       "    </tr>\n",
       "    <tr>\n",
       "      <th>1</th>\n",
       "      <td>MISSINGS (%)</td>\n",
       "      <td>0.0</td>\n",
       "      <td>0.0</td>\n",
       "      <td>0.0</td>\n",
       "      <td>0.0</td>\n",
       "      <td>0.0</td>\n",
       "      <td>0.0</td>\n",
       "      <td>0.0</td>\n",
       "      <td>0.0</td>\n",
       "      <td>0.0</td>\n",
       "      <td>0.0</td>\n",
       "    </tr>\n",
       "    <tr>\n",
       "      <th>2</th>\n",
       "      <td>UNIQUE_VALUES</td>\n",
       "      <td>844</td>\n",
       "      <td>861</td>\n",
       "      <td>52</td>\n",
       "      <td>5911</td>\n",
       "      <td>1923</td>\n",
       "      <td>3879</td>\n",
       "      <td>1809</td>\n",
       "      <td>12825</td>\n",
       "      <td>3833</td>\n",
       "      <td>5</td>\n",
       "    </tr>\n",
       "    <tr>\n",
       "      <th>3</th>\n",
       "      <td>CARDIN (%)</td>\n",
       "      <td>4.13</td>\n",
       "      <td>4.21</td>\n",
       "      <td>0.25</td>\n",
       "      <td>28.93</td>\n",
       "      <td>9.41</td>\n",
       "      <td>18.98</td>\n",
       "      <td>8.85</td>\n",
       "      <td>62.77</td>\n",
       "      <td>18.76</td>\n",
       "      <td>0.02</td>\n",
       "    </tr>\n",
       "  </tbody>\n",
       "</table>\n",
       "</div>"
      ],
      "text/plain": [
       "           COL_N longitude latitude housing_median_age total_rooms  \\\n",
       "0      DATA_TYPE   float64  float64            float64     float64   \n",
       "1   MISSINGS (%)       0.0      0.0                0.0         0.0   \n",
       "2  UNIQUE_VALUES       844      861                 52        5911   \n",
       "3     CARDIN (%)      4.13     4.21               0.25       28.93   \n",
       "\n",
       "  total_bedrooms population households median_income median_house_value  \\\n",
       "0        float64    float64    float64       float64            float64   \n",
       "1            0.0        0.0        0.0           0.0                0.0   \n",
       "2           1923       3879       1809         12825               3833   \n",
       "3           9.41      18.98       8.85         62.77              18.76   \n",
       "\n",
       "  ocean_proximity  \n",
       "0          object  \n",
       "1             0.0  \n",
       "2               5  \n",
       "3            0.02  "
      ]
     },
     "execution_count": 17,
     "metadata": {},
     "output_type": "execute_result"
    }
   ],
   "source": [
    "describe_df(df_casas)"
   ]
  },
  {
   "cell_type": "markdown",
   "metadata": {},
   "source": [
    "#### Función `tipifica_variables`\n",
    "\n",
    "Esta función sirve para poder tipificar las variables de un DF dado en categórica, numerica continua o numerica discreta.\n",
    "\n",
    "*Argumentos:*\n",
    "\n",
    "`df`: DF original para adquirir las variables que se quiera tificar.\n",
    "`umbral_categoria`: un entero donde corresponda al umbral que queramos asignar a una variable categórica.\n",
    "`umbral_continua`: un float donde corresponda al umbral que queramos asignar a una variable numérica.\n",
    "\n",
    "*Retorna:*\n",
    "\n",
    "Un DF con dos columnas `nombre_varibale` y `tipo_sugerido`, que tendrá tantas filas como columnas haya en el DF original."
   ]
  },
  {
   "cell_type": "code",
   "execution_count": 18,
   "metadata": {},
   "outputs": [
    {
     "ename": "TypeError",
     "evalue": "El valor de \"umbral_categoria\" debe ser de tipo <class 'int'>, pero recibió de tipo <class 'float'>",
     "output_type": "error",
     "traceback": [
      "\u001b[1;31m---------------------------------------------------------------------------\u001b[0m",
      "\u001b[1;31mTypeError\u001b[0m                                 Traceback (most recent call last)",
      "Cell \u001b[1;32mIn[18], line 3\u001b[0m\n\u001b[0;32m      1\u001b[0m \u001b[38;5;66;03m# Cheque del control de errores\u001b[39;00m\n\u001b[1;32m----> 3\u001b[0m \u001b[43mtipifica_variables\u001b[49m\u001b[43m(\u001b[49m\u001b[43mdf_casas\u001b[49m\u001b[43m,\u001b[49m\u001b[43m \u001b[49m\u001b[38;5;241;43m8.9\u001b[39;49m\u001b[43m,\u001b[49m\u001b[43m \u001b[49m\u001b[38;5;241;43m10.0\u001b[39;49m\u001b[43m)\u001b[49m\n",
      "File \u001b[1;32mc:\\Users\\bnove\\Documents\\TB_DS\\toolboxML\\toolbox_ML.py:52\u001b[0m, in \u001b[0;36mtipifica_variables\u001b[1;34m(df, umbral_categoria, umbral_continua)\u001b[0m\n\u001b[0;32m     39\u001b[0m \u001b[38;5;250m\u001b[39m\u001b[38;5;124;03m'''\u001b[39;00m\n\u001b[0;32m     40\u001b[0m \u001b[38;5;124;03mEsta función sirve para poder tipificar las variables de un DF dado en categórica, numerica continua o numerica discreta.\u001b[39;00m\n\u001b[0;32m     41\u001b[0m \n\u001b[1;32m   (...)\u001b[0m\n\u001b[0;32m     48\u001b[0m \u001b[38;5;124;03mpd.DataFrame: Un DF con dos columnas 'nombre_varibale' y 'tipo_sugerido', que tendrá tantas filas como columnas haya en el DF original.\u001b[39;00m\n\u001b[0;32m     49\u001b[0m \u001b[38;5;124;03m'''\u001b[39;00m\n\u001b[0;32m     51\u001b[0m \u001b[38;5;28;01mif\u001b[39;00m \u001b[38;5;28mtype\u001b[39m(umbral_categoria) \u001b[38;5;241m!=\u001b[39m \u001b[38;5;28mint\u001b[39m:\n\u001b[1;32m---> 52\u001b[0m     \u001b[38;5;28;01mraise\u001b[39;00m \u001b[38;5;167;01mTypeError\u001b[39;00m(\u001b[38;5;124mf\u001b[39m\u001b[38;5;124m'\u001b[39m\u001b[38;5;124mEl valor de \u001b[39m\u001b[38;5;124m\"\u001b[39m\u001b[38;5;124mumbral_categoria\u001b[39m\u001b[38;5;124m\"\u001b[39m\u001b[38;5;124m debe ser de tipo \u001b[39m\u001b[38;5;132;01m{\u001b[39;00m\u001b[38;5;28mint\u001b[39m\u001b[38;5;132;01m}\u001b[39;00m\u001b[38;5;124m, pero recibió de tipo \u001b[39m\u001b[38;5;132;01m{\u001b[39;00m\u001b[38;5;28mtype\u001b[39m(umbral_categoria)\u001b[38;5;132;01m}\u001b[39;00m\u001b[38;5;124m'\u001b[39m)\n\u001b[0;32m     54\u001b[0m \u001b[38;5;28;01melif\u001b[39;00m \u001b[38;5;28mtype\u001b[39m(umbral_continua) \u001b[38;5;241m!=\u001b[39m \u001b[38;5;28mfloat\u001b[39m:\n\u001b[0;32m     55\u001b[0m     \u001b[38;5;28;01mraise\u001b[39;00m \u001b[38;5;167;01mTypeError\u001b[39;00m(\u001b[38;5;124mf\u001b[39m\u001b[38;5;124m'\u001b[39m\u001b[38;5;124mEl valor de \u001b[39m\u001b[38;5;124m\"\u001b[39m\u001b[38;5;124mumbral_continua\u001b[39m\u001b[38;5;124m\"\u001b[39m\u001b[38;5;124m debe ser de tipo \u001b[39m\u001b[38;5;132;01m{\u001b[39;00m\u001b[38;5;28mfloat\u001b[39m\u001b[38;5;132;01m}\u001b[39;00m\u001b[38;5;124m, pero recibió de tipo \u001b[39m\u001b[38;5;132;01m{\u001b[39;00m\u001b[38;5;28mtype\u001b[39m(umbral_continua)\u001b[38;5;132;01m}\u001b[39;00m\u001b[38;5;124m'\u001b[39m)\n",
      "\u001b[1;31mTypeError\u001b[0m: El valor de \"umbral_categoria\" debe ser de tipo <class 'int'>, pero recibió de tipo <class 'float'>"
     ]
    }
   ],
   "source": [
    "# Cheque del control de errores\n",
    "\n",
    "tipifica_variables(df_casas, 8.9, 10.0)"
   ]
  },
  {
   "cell_type": "code",
   "execution_count": 7,
   "metadata": {},
   "outputs": [
    {
     "ename": "TypeError",
     "evalue": "El valor de \"umbral_continua\" debe ser de tipo <class 'float'>, pero recibió de tipo <class 'int'>",
     "output_type": "error",
     "traceback": [
      "\u001b[1;31m---------------------------------------------------------------------------\u001b[0m",
      "\u001b[1;31mTypeError\u001b[0m                                 Traceback (most recent call last)",
      "Cell \u001b[1;32mIn[7], line 1\u001b[0m\n\u001b[1;32m----> 1\u001b[0m \u001b[43mtipifica_variables\u001b[49m\u001b[43m(\u001b[49m\u001b[43mdf_casas\u001b[49m\u001b[43m,\u001b[49m\u001b[43m \u001b[49m\u001b[38;5;241;43m6\u001b[39;49m\u001b[43m,\u001b[49m\u001b[43m \u001b[49m\u001b[38;5;241;43m4\u001b[39;49m\u001b[43m)\u001b[49m\n",
      "File \u001b[1;32mc:\\Users\\sorim\\REPO_PRUEBA\\toolboxML\\toolbox_ML.py:54\u001b[0m, in \u001b[0;36mtipifica_variables\u001b[1;34m(df, umbral_categoria, umbral_continua)\u001b[0m\n\u001b[0;32m     51\u001b[0m     \u001b[38;5;28;01mraise\u001b[39;00m \u001b[38;5;167;01mTypeError\u001b[39;00m(\u001b[38;5;124mf\u001b[39m\u001b[38;5;124m'\u001b[39m\u001b[38;5;124mEl valor de \u001b[39m\u001b[38;5;124m\"\u001b[39m\u001b[38;5;124mumbral_categoria\u001b[39m\u001b[38;5;124m\"\u001b[39m\u001b[38;5;124m debe ser de tipo \u001b[39m\u001b[38;5;132;01m{\u001b[39;00m\u001b[38;5;28mint\u001b[39m\u001b[38;5;132;01m}\u001b[39;00m\u001b[38;5;124m, pero recibió de tipo \u001b[39m\u001b[38;5;132;01m{\u001b[39;00m\u001b[38;5;28mtype\u001b[39m(umbral_categoria)\u001b[38;5;132;01m}\u001b[39;00m\u001b[38;5;124m'\u001b[39m)\n\u001b[0;32m     53\u001b[0m \u001b[38;5;28;01melif\u001b[39;00m \u001b[38;5;28mtype\u001b[39m(umbral_continua) \u001b[38;5;241m!=\u001b[39m \u001b[38;5;28mfloat\u001b[39m:\n\u001b[1;32m---> 54\u001b[0m     \u001b[38;5;28;01mraise\u001b[39;00m \u001b[38;5;167;01mTypeError\u001b[39;00m(\u001b[38;5;124mf\u001b[39m\u001b[38;5;124m'\u001b[39m\u001b[38;5;124mEl valor de \u001b[39m\u001b[38;5;124m\"\u001b[39m\u001b[38;5;124mumbral_continua\u001b[39m\u001b[38;5;124m\"\u001b[39m\u001b[38;5;124m debe ser de tipo \u001b[39m\u001b[38;5;132;01m{\u001b[39;00m\u001b[38;5;28mfloat\u001b[39m\u001b[38;5;132;01m}\u001b[39;00m\u001b[38;5;124m, pero recibió de tipo \u001b[39m\u001b[38;5;132;01m{\u001b[39;00m\u001b[38;5;28mtype\u001b[39m(umbral_continua)\u001b[38;5;132;01m}\u001b[39;00m\u001b[38;5;124m'\u001b[39m)\n\u001b[0;32m     56\u001b[0m \u001b[38;5;28;01melse\u001b[39;00m:\n\u001b[0;32m     58\u001b[0m     df_tipificacion \u001b[38;5;241m=\u001b[39m pd\u001b[38;5;241m.\u001b[39mDataFrame({\n\u001b[0;32m     59\u001b[0m         \u001b[38;5;124m'\u001b[39m\u001b[38;5;124mnombre_variable\u001b[39m\u001b[38;5;124m'\u001b[39m: df\u001b[38;5;241m.\u001b[39mcolumns\n\u001b[0;32m     60\u001b[0m     })\n",
      "\u001b[1;31mTypeError\u001b[0m: El valor de \"umbral_continua\" debe ser de tipo <class 'float'>, pero recibió de tipo <class 'int'>"
     ]
    }
   ],
   "source": [
    "tipifica_variables(df_casas, 6, 4)"
   ]
  },
  {
   "cell_type": "code",
   "execution_count": 8,
   "metadata": {},
   "outputs": [
    {
     "data": {
      "text/html": [
       "<div>\n",
       "<style scoped>\n",
       "    .dataframe tbody tr th:only-of-type {\n",
       "        vertical-align: middle;\n",
       "    }\n",
       "\n",
       "    .dataframe tbody tr th {\n",
       "        vertical-align: top;\n",
       "    }\n",
       "\n",
       "    .dataframe thead th {\n",
       "        text-align: right;\n",
       "    }\n",
       "</style>\n",
       "<table border=\"1\" class=\"dataframe\">\n",
       "  <thead>\n",
       "    <tr style=\"text-align: right;\">\n",
       "      <th></th>\n",
       "      <th>nombre_variable</th>\n",
       "      <th>tipo_variable</th>\n",
       "    </tr>\n",
       "  </thead>\n",
       "  <tbody>\n",
       "    <tr>\n",
       "      <th>0</th>\n",
       "      <td>longitude</td>\n",
       "      <td>Numérica Discreta</td>\n",
       "    </tr>\n",
       "    <tr>\n",
       "      <th>1</th>\n",
       "      <td>latitude</td>\n",
       "      <td>Numérica Discreta</td>\n",
       "    </tr>\n",
       "    <tr>\n",
       "      <th>2</th>\n",
       "      <td>housing_median_age</td>\n",
       "      <td>Numérica Discreta</td>\n",
       "    </tr>\n",
       "    <tr>\n",
       "      <th>3</th>\n",
       "      <td>total_rooms</td>\n",
       "      <td>Numérica Continua</td>\n",
       "    </tr>\n",
       "    <tr>\n",
       "      <th>4</th>\n",
       "      <td>total_bedrooms</td>\n",
       "      <td>Numérica Discreta</td>\n",
       "    </tr>\n",
       "    <tr>\n",
       "      <th>5</th>\n",
       "      <td>population</td>\n",
       "      <td>Numérica Continua</td>\n",
       "    </tr>\n",
       "    <tr>\n",
       "      <th>6</th>\n",
       "      <td>households</td>\n",
       "      <td>Numérica Discreta</td>\n",
       "    </tr>\n",
       "    <tr>\n",
       "      <th>7</th>\n",
       "      <td>median_income</td>\n",
       "      <td>Numérica Continua</td>\n",
       "    </tr>\n",
       "    <tr>\n",
       "      <th>8</th>\n",
       "      <td>median_house_value</td>\n",
       "      <td>Numérica Continua</td>\n",
       "    </tr>\n",
       "    <tr>\n",
       "      <th>9</th>\n",
       "      <td>ocean_proximity</td>\n",
       "      <td>Numérica Discreta</td>\n",
       "    </tr>\n",
       "  </tbody>\n",
       "</table>\n",
       "</div>"
      ],
      "text/plain": [
       "      nombre_variable      tipo_variable\n",
       "0           longitude  Numérica Discreta\n",
       "1            latitude  Numérica Discreta\n",
       "2  housing_median_age  Numérica Discreta\n",
       "3         total_rooms  Numérica Continua\n",
       "4      total_bedrooms  Numérica Discreta\n",
       "5          population  Numérica Continua\n",
       "6          households  Numérica Discreta\n",
       "7       median_income  Numérica Continua\n",
       "8  median_house_value  Numérica Continua\n",
       "9     ocean_proximity  Numérica Discreta"
      ]
     },
     "execution_count": 8,
     "metadata": {},
     "output_type": "execute_result"
    }
   ],
   "source": [
    "tipifica_variables(df_casas, 5, 10.2)"
   ]
  },
  {
   "cell_type": "markdown",
   "metadata": {},
   "source": [
    "#### Función `get_features_num_regression`\n",
    "\n",
    "Obtiene las columnas numéricas cuya correlación con target_col es significativa.\n",
    "\n",
    "*Argumentos*:\n",
    "\n",
    "`df`: DataFrame que contiene los datos.\n",
    "\n",
    "`target_col`: Nombre de la columna objetivo (debe ser numérica).\n",
    "\n",
    "`umbral_corr`: Umbral de correlación para filtrar las columnas.\n",
    "\n",
    "`pvalue`: Umbral de significancia para el valor p. Si es None, solo se considera el umbral de correlación.\n",
    "\n",
    "\n",
    "*Retorna*:\n",
    "\n",
    "Lista de nombres de columnas que cumplen con los criterios."
   ]
  },
  {
   "cell_type": "code",
   "execution_count": 3,
   "metadata": {},
   "outputs": [
    {
     "ename": "TypeError",
     "evalue": "El valor dado en \"umbral_corr\" debe ser de tipo <class 'float'>, pero recibió un valor de tipo <class 'int'>",
     "output_type": "error",
     "traceback": [
      "\u001b[1;31m---------------------------------------------------------------------------\u001b[0m",
      "\u001b[1;31mTypeError\u001b[0m                                 Traceback (most recent call last)",
      "Cell \u001b[1;32mIn[3], line 2\u001b[0m\n\u001b[0;32m      1\u001b[0m \u001b[38;5;66;03m#Chequeo de errores\u001b[39;00m\n\u001b[1;32m----> 2\u001b[0m \u001b[43mget_features_num_regression\u001b[49m\u001b[43m(\u001b[49m\u001b[43mdf_casas\u001b[49m\u001b[43m,\u001b[49m\u001b[43m \u001b[49m\u001b[38;5;124;43m'\u001b[39;49m\u001b[38;5;124;43mmedian_house_value\u001b[39;49m\u001b[38;5;124;43m'\u001b[39;49m\u001b[43m,\u001b[49m\u001b[43m \u001b[49m\u001b[38;5;241;43m2\u001b[39;49m\u001b[43m)\u001b[49m\n",
      "File \u001b[1;32mc:\\Users\\sorim\\REPO_PRUEBA\\toolboxML\\toolbox_ML.py:97\u001b[0m, in \u001b[0;36mget_features_num_regression\u001b[1;34m(df, target_col, umbral_corr, pvalue)\u001b[0m\n\u001b[0;32m     84\u001b[0m \u001b[38;5;250m\u001b[39m\u001b[38;5;124;03m'''\u001b[39;00m\n\u001b[0;32m     85\u001b[0m \u001b[38;5;124;03mObtiene las columnas numéricas cuya correlación con target_col es significativa.\u001b[39;00m\n\u001b[0;32m     86\u001b[0m \u001b[38;5;124;03m\u001b[39;00m\n\u001b[1;32m   (...)\u001b[0m\n\u001b[0;32m     94\u001b[0m \u001b[38;5;124;03mList[str]: Lista de nombres de columnas que cumplen con los criterios.\u001b[39;00m\n\u001b[0;32m     95\u001b[0m \u001b[38;5;124;03m'''\u001b[39;00m\n\u001b[0;32m     96\u001b[0m \u001b[38;5;28;01mif\u001b[39;00m \u001b[38;5;28mtype\u001b[39m(umbral_corr) \u001b[38;5;241m!=\u001b[39m \u001b[38;5;28mfloat\u001b[39m:\n\u001b[1;32m---> 97\u001b[0m     \u001b[38;5;28;01mraise\u001b[39;00m \u001b[38;5;167;01mTypeError\u001b[39;00m (\u001b[38;5;124mf\u001b[39m\u001b[38;5;124m'\u001b[39m\u001b[38;5;124mEl valor dado en \u001b[39m\u001b[38;5;124m\"\u001b[39m\u001b[38;5;124mumbral_corr\u001b[39m\u001b[38;5;124m\"\u001b[39m\u001b[38;5;124m debe ser de tipo \u001b[39m\u001b[38;5;132;01m{\u001b[39;00m\u001b[38;5;28mfloat\u001b[39m\u001b[38;5;132;01m}\u001b[39;00m\u001b[38;5;124m, pero recibió un valor de tipo \u001b[39m\u001b[38;5;132;01m{\u001b[39;00m\u001b[38;5;28mtype\u001b[39m(umbral_corr)\u001b[38;5;132;01m}\u001b[39;00m\u001b[38;5;124m'\u001b[39m)\n\u001b[0;32m     98\u001b[0m \u001b[38;5;28;01mif\u001b[39;00m umbral_corr \u001b[38;5;241m<\u001b[39m \u001b[38;5;241m0\u001b[39m \u001b[38;5;129;01mor\u001b[39;00m umbral_corr \u001b[38;5;241m>\u001b[39m \u001b[38;5;241m1\u001b[39m:\n\u001b[0;32m     99\u001b[0m     \u001b[38;5;28;01mraise\u001b[39;00m \u001b[38;5;167;01mValueError\u001b[39;00m(\u001b[38;5;124mf\u001b[39m\u001b[38;5;124m'\u001b[39m\u001b[38;5;124mEl valor de \u001b[39m\u001b[38;5;124m\"\u001b[39m\u001b[38;5;124mumbral_corr\u001b[39m\u001b[38;5;124m\"\u001b[39m\u001b[38;5;124m no está entre 0 y 1 ya que el valor es \u001b[39m\u001b[38;5;132;01m{\u001b[39;00mumbral_corr\u001b[38;5;132;01m}\u001b[39;00m\u001b[38;5;124m'\u001b[39m)\n",
      "\u001b[1;31mTypeError\u001b[0m: El valor dado en \"umbral_corr\" debe ser de tipo <class 'float'>, pero recibió un valor de tipo <class 'int'>"
     ]
    }
   ],
   "source": [
    "#Chequeo de errores\n",
    "get_features_num_regression(df_casas, 'median_house_value', 2)"
   ]
  },
  {
   "cell_type": "code",
   "execution_count": 5,
   "metadata": {},
   "outputs": [
    {
     "ename": "ValueError",
     "evalue": "El valor de \"umbral_corr\" no está entre 0 y 1 ya que el valor es 2.3",
     "output_type": "error",
     "traceback": [
      "\u001b[1;31m---------------------------------------------------------------------------\u001b[0m",
      "\u001b[1;31mValueError\u001b[0m                                Traceback (most recent call last)",
      "Cell \u001b[1;32mIn[5], line 1\u001b[0m\n\u001b[1;32m----> 1\u001b[0m \u001b[43mget_features_num_regression\u001b[49m\u001b[43m(\u001b[49m\u001b[43mdf_casas\u001b[49m\u001b[43m,\u001b[49m\u001b[43m \u001b[49m\u001b[38;5;124;43m'\u001b[39;49m\u001b[38;5;124;43mmedian_house_value\u001b[39;49m\u001b[38;5;124;43m'\u001b[39;49m\u001b[43m,\u001b[49m\u001b[43m \u001b[49m\u001b[38;5;241;43m2.3\u001b[39;49m\u001b[43m)\u001b[49m\n",
      "File \u001b[1;32mc:\\Users\\sorim\\REPO_PRUEBA\\toolboxML\\toolbox_ML.py:99\u001b[0m, in \u001b[0;36mget_features_num_regression\u001b[1;34m(df, target_col, umbral_corr, pvalue)\u001b[0m\n\u001b[0;32m     97\u001b[0m     \u001b[38;5;28;01mraise\u001b[39;00m \u001b[38;5;167;01mTypeError\u001b[39;00m (\u001b[38;5;124mf\u001b[39m\u001b[38;5;124m'\u001b[39m\u001b[38;5;124mEl valor dado en \u001b[39m\u001b[38;5;124m\"\u001b[39m\u001b[38;5;124mumbral_corr\u001b[39m\u001b[38;5;124m\"\u001b[39m\u001b[38;5;124m debe ser de tipo \u001b[39m\u001b[38;5;132;01m{\u001b[39;00m\u001b[38;5;28mfloat\u001b[39m\u001b[38;5;132;01m}\u001b[39;00m\u001b[38;5;124m, pero recibió un valor de tipo \u001b[39m\u001b[38;5;132;01m{\u001b[39;00m\u001b[38;5;28mtype\u001b[39m(umbral_corr)\u001b[38;5;132;01m}\u001b[39;00m\u001b[38;5;124m'\u001b[39m)\n\u001b[0;32m     98\u001b[0m \u001b[38;5;28;01mif\u001b[39;00m umbral_corr \u001b[38;5;241m<\u001b[39m \u001b[38;5;241m0\u001b[39m \u001b[38;5;129;01mor\u001b[39;00m umbral_corr \u001b[38;5;241m>\u001b[39m \u001b[38;5;241m1\u001b[39m:\n\u001b[1;32m---> 99\u001b[0m     \u001b[38;5;28;01mraise\u001b[39;00m \u001b[38;5;167;01mValueError\u001b[39;00m(\u001b[38;5;124mf\u001b[39m\u001b[38;5;124m'\u001b[39m\u001b[38;5;124mEl valor de \u001b[39m\u001b[38;5;124m\"\u001b[39m\u001b[38;5;124mumbral_corr\u001b[39m\u001b[38;5;124m\"\u001b[39m\u001b[38;5;124m no está entre 0 y 1 ya que el valor es \u001b[39m\u001b[38;5;132;01m{\u001b[39;00mumbral_corr\u001b[38;5;132;01m}\u001b[39;00m\u001b[38;5;124m'\u001b[39m)\n\u001b[0;32m    100\u001b[0m \u001b[38;5;28;01mif\u001b[39;00m target_col \u001b[38;5;241m!=\u001b[39m \u001b[38;5;28mint\u001b[39m:\n\u001b[0;32m    101\u001b[0m     \u001b[38;5;28;01mraise\u001b[39;00m \u001b[38;5;167;01mTypeError\u001b[39;00m(\u001b[38;5;124mf\u001b[39m\u001b[38;5;124m\"\u001b[39m\u001b[38;5;124mLa target \u001b[39m\u001b[38;5;132;01m{\u001b[39;00mtarget_col\u001b[38;5;132;01m}\u001b[39;00m\u001b[38;5;124m, no es de tipo \u001b[39m\u001b[38;5;132;01m{\u001b[39;00m\u001b[38;5;28mint\u001b[39m\u001b[38;5;132;01m}\u001b[39;00m\u001b[38;5;124m, y esta variable es de tipo <class \u001b[39m\u001b[38;5;124m'\u001b[39m\u001b[38;5;132;01m{\u001b[39;00mdf[target_col]\u001b[38;5;241m.\u001b[39mdtypes\u001b[38;5;132;01m}\u001b[39;00m\u001b[38;5;124m'\u001b[39m\u001b[38;5;124m>\u001b[39m\u001b[38;5;124m\"\u001b[39m)\n",
      "\u001b[1;31mValueError\u001b[0m: El valor de \"umbral_corr\" no está entre 0 y 1 ya que el valor es 2.3"
     ]
    }
   ],
   "source": [
    "get_features_num_regression(df_casas, 'median_house_value', 2.3)"
   ]
  },
  {
   "cell_type": "code",
   "execution_count": 3,
   "metadata": {},
   "outputs": [
    {
     "ename": "TypeError",
     "evalue": "La target \"ocean_proximity\", no es de tipo numérico, ya que esta variable es de tipo object",
     "output_type": "error",
     "traceback": [
      "\u001b[1;31m---------------------------------------------------------------------------\u001b[0m",
      "\u001b[1;31mTypeError\u001b[0m                                 Traceback (most recent call last)",
      "Cell \u001b[1;32mIn[3], line 1\u001b[0m\n\u001b[1;32m----> 1\u001b[0m \u001b[43mget_features_num_regression\u001b[49m\u001b[43m(\u001b[49m\u001b[43mdf_casas\u001b[49m\u001b[43m,\u001b[49m\u001b[43m \u001b[49m\u001b[38;5;124;43m'\u001b[39;49m\u001b[38;5;124;43mocean_proximity\u001b[39;49m\u001b[38;5;124;43m'\u001b[39;49m\u001b[43m,\u001b[49m\u001b[43m \u001b[49m\u001b[38;5;241;43m0.5\u001b[39;49m\u001b[43m)\u001b[49m\n",
      "File \u001b[1;32mc:\\Users\\sorim\\REPO_PRUEBA\\toolboxML\\toolbox_ML.py:102\u001b[0m, in \u001b[0;36mget_features_num_regression\u001b[1;34m(df, target_col, umbral_corr, pvalue)\u001b[0m\n\u001b[0;32m    100\u001b[0m     \u001b[38;5;28;01mraise\u001b[39;00m \u001b[38;5;167;01mValueError\u001b[39;00m(\u001b[38;5;124mf\u001b[39m\u001b[38;5;124m'\u001b[39m\u001b[38;5;124mEl valor de \u001b[39m\u001b[38;5;124m\"\u001b[39m\u001b[38;5;124mumbral_corr\u001b[39m\u001b[38;5;124m\"\u001b[39m\u001b[38;5;124m no está entre 0 y 1 ya que el valor es \u001b[39m\u001b[38;5;132;01m{\u001b[39;00mumbral_corr\u001b[38;5;132;01m}\u001b[39;00m\u001b[38;5;124m'\u001b[39m)\n\u001b[0;32m    101\u001b[0m \u001b[38;5;28;01mif\u001b[39;00m \u001b[38;5;129;01mnot\u001b[39;00m is_numeric_dtype(df[target_col]):\n\u001b[1;32m--> 102\u001b[0m     \u001b[38;5;28;01mraise\u001b[39;00m \u001b[38;5;167;01mTypeError\u001b[39;00m(\u001b[38;5;124mf\u001b[39m\u001b[38;5;124m'\u001b[39m\u001b[38;5;124mLa target \u001b[39m\u001b[38;5;124m\"\u001b[39m\u001b[38;5;132;01m{\u001b[39;00mtarget_col\u001b[38;5;132;01m}\u001b[39;00m\u001b[38;5;124m\"\u001b[39m\u001b[38;5;124m, no es de tipo numérico, ya que esta variable es de tipo \u001b[39m\u001b[38;5;132;01m{\u001b[39;00mdf[target_col]\u001b[38;5;241m.\u001b[39mdtypes\u001b[38;5;132;01m}\u001b[39;00m\u001b[38;5;124m'\u001b[39m)\n\u001b[0;32m    105\u001b[0m \u001b[38;5;28;01melse\u001b[39;00m:\n\u001b[0;32m    106\u001b[0m     \u001b[38;5;28;01mif\u001b[39;00m pvalue \u001b[38;5;241m==\u001b[39m \u001b[38;5;28;01mNone\u001b[39;00m:\n",
      "\u001b[1;31mTypeError\u001b[0m: La target \"ocean_proximity\", no es de tipo numérico, ya que esta variable es de tipo object"
     ]
    }
   ],
   "source": [
    "get_features_num_regression(df_casas, 'ocean_proximity', 0.5)"
   ]
  },
  {
   "cell_type": "code",
   "execution_count": 4,
   "metadata": {},
   "outputs": [
    {
     "name": "stdout",
     "output_type": "stream",
     "text": [
      "Las correlaciones con las demás variables numéricas y \"{target_col}\" son:\n",
      "\n",
      "median_house_value    1.000000\n",
      "median_income         0.688355\n",
      "latitude              0.144638\n",
      "total_rooms           0.133294\n",
      "housing_median_age    0.106432\n",
      "households            0.064894\n",
      "total_bedrooms        0.049686\n",
      "longitude             0.045398\n",
      "population            0.025300\n",
      "Name: median_house_value, dtype: float64\n",
      "\n",
      "Lista de variables numéricas que tiene correlación según el umbral dado en la función:\n"
     ]
    },
    {
     "data": {
      "text/plain": [
       "['median_income',\n",
       " 'latitude',\n",
       " 'total_rooms',\n",
       " 'housing_median_age',\n",
       " 'households']"
      ]
     },
     "execution_count": 4,
     "metadata": {},
     "output_type": "execute_result"
    }
   ],
   "source": [
    "# Si pvalue == None\n",
    "get_features_num_regression(df_casas, 'median_house_value', 0.05)"
   ]
  },
  {
   "cell_type": "code",
   "execution_count": 3,
   "metadata": {},
   "outputs": [
    {
     "name": "stdout",
     "output_type": "stream",
     "text": [
      "Las correlaciones con las demás variables numéricas y \"median_house_value\" son:\n",
      "\n",
      "median_house_value    1.000000\n",
      "median_income         0.688355\n",
      "latitude              0.144638\n",
      "total_rooms           0.133294\n",
      "housing_median_age    0.106432\n",
      "households            0.064894\n",
      "total_bedrooms        0.049686\n",
      "longitude             0.045398\n",
      "population            0.025300\n",
      "Name: median_house_value, dtype: float64\n",
      "\n",
      "Lista de variables numéricas que tiene correlación según el umbral dado en la función:\n",
      "['median_income', 'latitude', 'total_rooms', 'housing_median_age', 'households']\n",
      "\n",
      "Las features numéricas con una significancia del 98.0 % son:\n"
     ]
    },
    {
     "data": {
      "text/plain": [
       "['median_income',\n",
       " 'latitude',\n",
       " 'total_rooms',\n",
       " 'housing_median_age',\n",
       " 'households']"
      ]
     },
     "execution_count": 3,
     "metadata": {},
     "output_type": "execute_result"
    }
   ],
   "source": [
    "# Si el pvalue != None\n",
    "get_features_num_regression(df_casas, 'median_house_value', 0.05, 0.98)"
   ]
  },
  {
   "cell_type": "markdown",
   "metadata": {},
   "source": [
    "#### Función `get_features_cat_regression`\n",
    "\n",
    "Esta funcion devueleve una lista con las variables categoricas del dataframe que guardan una relacion siginificativa con la variable target, superando el test ANOVA con una confianza estadistica del 95%. Evalua los argumentos de entrada y retornara None en caso de que alguno de los valores de entrada no sean adecuados. \n",
    "\n",
    "*Argumentos:*\n",
    "\n",
    "`df` : (`pd.Dataframe`) Dataframe con las variables que se quieren testar.\n",
    "`target_col` : (`df[\"columna_target\"]`) Columna del dataframe que se toma como objetivo (y).\n",
    "`p_value` : (`float`) Por defecto `0.05`. Umbral de confianza estadistica. \n",
    "\n",
    "*Retorna:*\n",
    "\n",
    "Una `lista` con las variables categoricas del dataframe. "
   ]
  },
  {
   "cell_type": "code",
   "execution_count": 7,
   "metadata": {},
   "outputs": [
    {
     "name": "stdout",
     "output_type": "stream",
     "text": [
      "Las variables categóricas encontradas son: ['ocean_proximity']\n"
     ]
    }
   ],
   "source": [
    "get_features_cat_regression(df_casas, \"median_house_value\")"
   ]
  },
  {
   "cell_type": "code",
   "execution_count": 8,
   "metadata": {},
   "outputs": [
    {
     "name": "stdout",
     "output_type": "stream",
     "text": [
      "Las variables categóricas encontradas son: ['ocean_proximity']\n"
     ]
    }
   ],
   "source": [
    "get_features_cat_regression(df_casas, \"median_house_value\", 0.01) # Probamos a subir el pvalor"
   ]
  },
  {
   "cell_type": "code",
   "execution_count": 19,
   "metadata": {},
   "outputs": [
    {
     "name": "stdout",
     "output_type": "stream",
     "text": [
      "Las variables categóricas encontradas son: ['ocean_proximity']\n"
     ]
    }
   ],
   "source": [
    "get_features_cat_regression(df_casas, \"median_income\") # Probamos con otra columna target "
   ]
  }
 ],
 "metadata": {
  "kernelspec": {
   "display_name": "Python 3",
   "language": "python",
   "name": "python3"
  },
  "language_info": {
   "codemirror_mode": {
    "name": "ipython",
    "version": 3
   },
   "file_extension": ".py",
   "mimetype": "text/x-python",
   "name": "python",
   "nbconvert_exporter": "python",
   "pygments_lexer": "ipython3",
   "version": "3.12.3"
  }
 },
 "nbformat": 4,
 "nbformat_minor": 2
}
